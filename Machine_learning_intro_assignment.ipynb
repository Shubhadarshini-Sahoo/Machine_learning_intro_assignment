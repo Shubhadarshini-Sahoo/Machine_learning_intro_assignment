{
  "nbformat": 4,
  "nbformat_minor": 0,
  "metadata": {
    "colab": {
      "provenance": []
    },
    "kernelspec": {
      "name": "python3",
      "display_name": "Python 3"
    },
    "language_info": {
      "name": "python"
    }
  },
  "cells": [
    {
      "cell_type": "markdown",
      "source": [
        "#**Machine_learning_intro_assignment**"
      ],
      "metadata": {
        "id": "kOgcIWLR6LpM"
      }
    },
    {
      "cell_type": "markdown",
      "source": [
        "**Question 1** : **Explain the differences between AI, ML, Deep Learning (DL), and Data**\n",
        "**Science (DS).**"
      ],
      "metadata": {
        "id": "R7ByazKjidZS"
      }
    },
    {
      "cell_type": "markdown",
      "source": [
        "**Artificial Intelligence (AI)**\n",
        "\n",
        "Definition: The broadest field. AI is the science of making machines “intelligent,” meaning they can perform tasks that normally require human intelligence.\n",
        "\n",
        "Scope: Includes reasoning, problem-solving, decision-making, natural language understanding, computer vision, robotics, etc.\n",
        "\n",
        "Goal: To create systems that can mimic or surpass human cognitive functions.\n",
        "\n",
        "Example: Siri, self-driving cars, chatbots, recommendation systems"
      ],
      "metadata": {
        "id": "TXbZpcsviqDG"
      }
    },
    {
      "cell_type": "markdown",
      "source": [
        "**Machine Learning (ML)**\n",
        "\n",
        "Definition: A subset of AI that focuses on enabling machines to learn patterns from data and improve performance without being explicitly programmed.\n",
        "\n",
        "Scope: Provides algorithms and models that allow systems to adapt from experience.\n",
        "\n",
        "Goal: Learn from data to make predictions or decisions.\n",
        "\n",
        "Example: Spam email detection, credit scoring, product recommendations."
      ],
      "metadata": {
        "id": "MbTNB_tBizdu"
      }
    },
    {
      "cell_type": "markdown",
      "source": [
        "**Deep Learning (DL)**\n",
        "\n",
        "Definition: A subset of Machine Learning that uses artificial neural networks with many layers (deep networks) to model complex patterns and representations in data.\n",
        "\n",
        "Scope: Works especially well with large amounts of unstructured data like images, text, and audio.\n",
        "\n",
        "Goal: Automate feature extraction and achieve state-of-the-art performance in perception tasks.\n",
        "\n",
        "Example: Face recognition, voice assistants, medical image analysis, autonomous driving.\n",
        "\n"
      ],
      "metadata": {
        "id": "Gl-bievOi6M7"
      }
    },
    {
      "cell_type": "markdown",
      "source": [
        "**Data Science (DS)**\n",
        "\n",
        "Definition: A multidisciplinary field that combines statistics, data analysis, machine learning, and domain knowledge to extract insights and knowledge from data.\n",
        "\n",
        "Scope: Broader than AI/ML—includes data collection, cleaning, visualization, interpretation, and communication of insights.\n",
        "\n",
        "Goal: Help organizations make data-driven decisions.\n",
        "\n",
        "Example: Analyzing sales data to identify trends, customer segmentation, predicting business growth."
      ],
      "metadata": {
        "id": "oZ_6HR4Di_gG"
      }
    },
    {
      "cell_type": "markdown",
      "source": [
        "**Question 2:** **What are the types of machine learning?** **Describe each** **with one real world example.**\n"
      ],
      "metadata": {
        "id": "XSjz-777jBNY"
      }
    },
    {
      "cell_type": "markdown",
      "source": [
        "**Supervised Learning**\n",
        "\n",
        "Definition: The model learns from a labeled dataset (input data + correct output). The goal is to predict outcomes for new, unseen data.\n",
        "\n",
        "How it works:\n",
        "\n",
        "Training data has both features (X) and target labels (Y).\n",
        "\n",
        "The algorithm maps inputs → outputs.\n",
        "\n",
        "Subtypes:\n",
        "\n",
        "Regression → Predict continuous values (e.g., house prices).\n",
        "\n",
        "Classification → Predict categories (e.g., spam vs. not spam).\n",
        "\n",
        "Example:\n",
        "\n",
        "Email Spam Detection: Emails are labeled as spam or not spam. The model learns patterns and classifies new emails accordingly."
      ],
      "metadata": {
        "id": "wYXpbRizjHUP"
      }
    },
    {
      "cell_type": "markdown",
      "source": [
        "**Unsupervised Learning**\n",
        "\n",
        "Definition: The model learns from unlabeled data. The system tries to find hidden structures or patterns in the data.\n",
        "\n",
        "How it works:\n",
        "\n",
        "Only input data (X) is provided, no labels (Y).\n",
        "\n",
        "Algorithms group or reduce data based on similarities.\n",
        "\n",
        "Subtypes:\n",
        "\n",
        "Clustering → Group similar data (e.g., customer segmentation).\n",
        "\n",
        "Dimensionality Reduction → Simplify large datasets while keeping patterns.\n",
        "\n",
        "Example:\n",
        "\n",
        "Customer Segmentation in Marketing: Businesses group customers by purchasing behavior without predefined labels."
      ],
      "metadata": {
        "id": "Lc1plGFTjP4c"
      }
    },
    {
      "cell_type": "markdown",
      "source": [
        "**Reinforcement Learning (RL)**\n",
        "\n",
        "Definition: The model learns by interacting with an environment and receiving feedback in the form of rewards or penalties.\n",
        "\n",
        "How it works:\n",
        "\n",
        "An agent takes actions in an environment.\n",
        "\n",
        "Feedback (reward/penalty) helps improve future decisions.\n",
        "\n",
        "Goal: Maximize cumulative reward.\n",
        "\n",
        "Example:\n",
        "\n",
        "Self-Driving Cars: The car (agent) learns by making driving decisions, receiving positive rewards for safe driving and penalties for mistakes."
      ],
      "metadata": {
        "id": "ViVa-1_ajTYn"
      }
    },
    {
      "cell_type": "markdown",
      "source": [
        "**Question 3: Define overfitting, underfitting, and the bias-variance tradeoff in machine learning.**"
      ],
      "metadata": {
        "id": "I8w8aMf92guY"
      }
    },
    {
      "cell_type": "markdown",
      "source": [
        "a.***Overfitting***\n",
        "\n",
        "Definition: Overfitting happens when a model learns too much detail from the training data, including noise and random fluctuations, which reduces its ability to generalize to unseen data.\n",
        "\n",
        "***Symptoms:***\n",
        "\n",
        "Very high accuracy on training data\n",
        "\n",
        "Poor accuracy on test/real-world data\n",
        "\n",
        "Cause: Model is too complex (e.g., too many features, too many layers, not enough regularization).\n",
        "\n",
        "Example: A decision tree that memorizes every training sample, including outliers, but fails to classify new data correctly."
      ],
      "metadata": {
        "id": "kSi4YNqMjakN"
      }
    },
    {
      "cell_type": "markdown",
      "source": [
        "***b.Underfitting***\n",
        "\n",
        "Definition: Underfitting occurs when a model is too simple to capture the underlying patterns in the data.\n",
        "\n",
        "***Symptoms:***\n",
        "\n",
        "Low accuracy on training data\n",
        "\n",
        "Low accuracy on test data\n",
        "\n",
        "Cause: Model lacks complexity (e.g., using a linear model on non-linear data, too few features, insufficient training).\n",
        "\n",
        "Example: Trying to predict house prices with only one feature (like square footage) when many other factors (location, age, amenities) matter."
      ],
      "metadata": {
        "id": "3I5sh1kwjfwM"
      }
    },
    {
      "cell_type": "markdown",
      "source": [
        "***c. Bias-Variance Tradeoff***\n",
        "\n",
        "*Bias*: Error due to overly simplistic assumptions in the model (leads to underfitting).\n",
        "\n",
        "*Variance:* Error due to excessive sensitivity to small fluctuations in training data (leads to overfitting).\n",
        "\n",
        "*Tradeoff:*\n",
        "\n",
        "High Bias → Model is too rigid, ignores complexity → Underfits\n",
        "\n",
        "High Variance → Model is too flexible, memorizes noise → Overfits\n",
        "\n",
        "The goal is to find a balance (sweet spot) where the model captures true patterns but still generalizes well."
      ],
      "metadata": {
        "id": "Jh0dQEKNjlK4"
      }
    },
    {
      "cell_type": "markdown",
      "source": [
        "**Question 4: What are outliers in a dataset, and list three common techniques for**\n",
        "**handling them.**"
      ],
      "metadata": {
        "id": "RdtidFxtjmHs"
      }
    },
    {
      "cell_type": "markdown",
      "source": [
        "Outliers are data points that differ significantly from most of the data.\n",
        "\n",
        "They may be unusually high or low values that do not fit the general pattern.\n",
        "\n",
        "Outliers can occur due to:\n",
        "\n",
        "Data entry errors (e.g., typing 1000 instead of 100).\n",
        "\n",
        "Measurement errors (faulty sensors).\n",
        "\n",
        "Natural variation (genuine rare events).\n",
        "\n",
        "Example: In a dataset of people’s ages (10–70 years), an entry like 250 years would be an outlier."
      ],
      "metadata": {
        "id": "njekv9aUjo37"
      }
    },
    {
      "cell_type": "markdown",
      "source": [
        "Three Common Techniques to Handle Outliers\n",
        "***a. Removal (Deleting Outliers)***\n",
        "\n",
        "If the outlier is due to an error or irrelevant to analysis, it can be removed.\n",
        "\n",
        "Example: If \"age = 250\" is clearly invalid, remove that record.\n",
        "\n",
        "***b. Transformation***\n",
        "\n",
        "Apply mathematical transformations to reduce the effect of outliers.\n",
        "\n",
        "Common methods:\n",
        "\n",
        "Log Transformation\n",
        "\n",
        "Square Root Transformation\n",
        "\n",
        "Normalization/Standardization\n",
        "\n",
        "Example: Taking the log of income data can reduce the effect of a few extremely high salaries.\n",
        "\n",
        "***c. Imputation (Replacing Outliers)***\n",
        "\n",
        "Replace outliers with more reasonable values.\n",
        "\n",
        "Options:\n",
        "\n",
        "Replace with mean, median, or mode.\n",
        "\n",
        "Use domain knowledge to set a cap/floor.\n",
        "\n",
        "Example: If most exam scores are 40–100 but one student has 1000, replace it with the maximum valid score (100)."
      ],
      "metadata": {
        "id": "S1macCOajznH"
      }
    },
    {
      "cell_type": "markdown",
      "source": [
        "**Question 5:Explain the process of handling missing values and mention one**\n",
        "**imputation technique for numerical and one for categorical data.**\n"
      ],
      "metadata": {
        "id": "x4xYuvA4j0ua"
      }
    },
    {
      "cell_type": "markdown",
      "source": [
        "**Process of Handling Missing Values**\n",
        "\n",
        "Identify Missing Data\n",
        "\n",
        "Check for null, NA, or blank entries in the dataset.\n",
        "\n",
        "Tools: isnull(), isna() in Python (Pandas).\n",
        "\n",
        "Analyze the Pattern of Missingness\n",
        "\n",
        "MCAR (Missing Completely at Random): No relationship with any variable.\n",
        "\n",
        "MAR (Missing at Random): Related to observed data but not the missing one.\n",
        "\n",
        "MNAR (Missing Not at Random): Missingness depends on the missing value itself.\n",
        "\n",
        "Decide on a Strategy\n",
        "\n",
        "Remove: Drop rows/columns if too many missing values.\n",
        "\n",
        "Impute: Fill missing values using statistical/machine learning methods.\n",
        "\n",
        "Apply Imputation Technique\n",
        "\n",
        "Different methods for numerical and categorical data."
      ],
      "metadata": {
        "id": "sZaXMSFQj3iI"
      }
    },
    {
      "cell_type": "markdown",
      "source": [
        "Imputation Techniques\n",
        "Numerical Data → Mean/Median Imputation\n",
        "\n",
        "Replace missing numerical values with the mean (average) or median of the column.\n",
        "\n",
        "Example: If income data is missing for some customers, replace with the median income (robust against outliers).\n",
        "\n",
        "Categorical Data → Mode Imputation\n",
        "\n",
        "Replace missing categorical values with the most frequent category (mode).\n",
        "\n",
        "Example: If the \"Gender\" column has missing values, replace them with the most common gender in the dataset."
      ],
      "metadata": {
        "id": "FUEPy5VskBvX"
      }
    },
    {
      "cell_type": "markdown",
      "source": [
        "**Question 6: Write a Python program that:**\n",
        "\n",
        "● **Creates a synthetic imbalanced dataset with make_classification() from**\n",
        "**sklearn.datasets.**\n",
        "\n",
        "**● Prints the class distribution.**\n",
        "(Include your Python code and output in the code box below.)"
      ],
      "metadata": {
        "id": "XhdiHvhCkCw1"
      }
    },
    {
      "cell_type": "code",
      "source": [
        "# Import required libraries\n",
        "from sklearn.datasets import make_classification\n",
        "from collections import Counter\n",
        "\n",
        "# Create synthetic imbalanced dataset\n",
        "X, y = make_classification(n_samples=1000,     # total samples\n",
        "                           n_features=10,      # number of features\n",
        "                           n_informative=5,    # number of informative features\n",
        "                           n_redundant=2,      # redundant features\n",
        "                           n_classes=2,        # binary classification\n",
        "                           weights=[0.9, 0.1], # imbalance ratio (90% vs 10%)\n",
        "                           random_state=42)\n",
        "\n",
        "# Print class distribution\n",
        "print(\"Class distribution:\", Counter(y))\n"
      ],
      "metadata": {
        "colab": {
          "base_uri": "https://localhost:8080/"
        },
        "id": "Ov26kDekkPvL",
        "outputId": "862caee7-4a59-43c7-a5f4-35c5bdf54df0"
      },
      "execution_count": null,
      "outputs": [
        {
          "output_type": "stream",
          "name": "stdout",
          "text": [
            "Class distribution: Counter({np.int64(0): 896, np.int64(1): 104})\n"
          ]
        }
      ]
    },
    {
      "cell_type": "markdown",
      "source": [
        "**Question 7:** Implement one-hot encoding using pandas for the following list of colors:['Red', 'Green', 'Blue', 'Green', 'Red'].\n",
        "\n",
        "Print the resulting dataframe.\n",
        "(Include your Python code and output in the code box below.)"
      ],
      "metadata": {
        "id": "iNWkbrVBkPT4"
      }
    },
    {
      "cell_type": "code",
      "source": [
        "import pandas as pd\n",
        "\n",
        "# Input list of colors\n",
        "colors = ['Red', 'Green', 'Blue', 'Green', 'Red']\n",
        "\n",
        "# Create DataFrame\n",
        "df = pd.DataFrame(colors, columns=['Color'])\n",
        "\n",
        "# Apply one-hot encoding\n",
        "one_hot_df = pd.get_dummies(df['Color'])\n",
        "\n",
        "# Print the resulting DataFrame\n",
        "print(one_hot_df)\n"
      ],
      "metadata": {
        "colab": {
          "base_uri": "https://localhost:8080/"
        },
        "id": "_fSYWxcVnIjy",
        "outputId": "547b7b17-4671-4010-9b12-c4803e30b519"
      },
      "execution_count": null,
      "outputs": [
        {
          "output_type": "stream",
          "name": "stdout",
          "text": [
            "    Blue  Green    Red\n",
            "0  False  False   True\n",
            "1  False   True  False\n",
            "2   True  False  False\n",
            "3  False   True  False\n",
            "4  False  False   True\n"
          ]
        }
      ]
    },
    {
      "cell_type": "markdown",
      "source": [
        "**Question 8: Write a Python script to:**\n",
        "\n",
        "● **Generate 1000 samples from a normal distribution.**\n",
        "\n",
        "● **Introduce 50 random missing values.**\n",
        "\n",
        "● **Fill missing values with the column mean.**\n",
        "\n",
        "●** **Plot a histogram before and after imputation**.**\n",
        "**(Include your Python code and output in the code box below.)**"
      ],
      "metadata": {
        "id": "SxvgLTExkKeN"
      }
    },
    {
      "cell_type": "code",
      "source": [
        "import numpy as np\n",
        "import pandas as pd\n",
        "import matplotlib.pyplot as plt\n",
        "\n",
        "# Step 1: Generate 1000 samples from a normal distribution\n",
        "data = np.random.normal(loc=0, scale=1, size=1000)  # mean=0, std=1\n",
        "\n",
        "# Convert to DataFrame\n",
        "df = pd.DataFrame(data, columns=['Value'])\n",
        "\n",
        "# Step 2: Introduce 50 random missing values\n",
        "missing_indices = np.random.choice(df.index, size=50, replace=False)\n",
        "df.loc[missing_indices, 'Value'] = np.nan\n",
        "\n",
        "# Step 3: Fill missing values with column mean\n",
        "mean_value = df['Value'].mean()\n",
        "df_filled = df['Value'].fillna(mean_value)\n",
        "\n",
        "# Step 4: Plot histograms before and after imputation\n",
        "plt.figure(figsize=(12, 5))\n",
        "\n",
        "# Histogram before imputation\n",
        "plt.subplot(1, 2, 1)\n",
        "plt.hist(df['Value'].dropna(), bins=30, edgecolor='black')\n",
        "plt.title(\"Before Imputation\")\n",
        "plt.xlabel(\"Value\")\n",
        "plt.ylabel(\"Frequency\")\n",
        "\n",
        "# Histogram after imputation\n",
        "plt.subplot(1, 2, 2)\n",
        "plt.hist(df_filled, bins=30, edgecolor='black')\n",
        "plt.title(\"After Imputation\")\n",
        "plt.xlabel(\"Value\")\n",
        "plt.ylabel(\"Frequency\")\n",
        "\n",
        "plt.tight_layout()\n",
        "plt.show()\n"
      ],
      "metadata": {
        "colab": {
          "base_uri": "https://localhost:8080/",
          "height": 507
        },
        "id": "HTvlbV99kyYX",
        "outputId": "3ba6eb44-1891-436d-d70e-4c80527dfcfd"
      },
      "execution_count": null,
      "outputs": [
        {
          "output_type": "display_data",
          "data": {
            "text/plain": [
              "<Figure size 1200x500 with 2 Axes>"
            ],
            "image/png": "[encoded data removed]"
          },
          "metadata": {}
        }
      ]
    },
    {
      "cell_type": "markdown",
      "source": [
        "**Question 9: Implement Min-Max scaling on the following list of numbers [2, 5,** **10, 15,20] using sklearn.preprocessing.MinMaxScaler. Print the scaled array.**\n",
        "**(Include your Python code and output in the code box below.) **"
      ],
      "metadata": {
        "id": "wNUbo_PfkuB7"
      }
    },
    {
      "cell_type": "code",
      "source": [
        "from sklearn.preprocessing import MinMaxScaler\n",
        "import numpy as np\n",
        "\n",
        "# Input data\n",
        "data = np.array([2, 5, 10, 15, 20]).reshape(-1, 1)\n",
        "\n",
        "# Initialize MinMaxScaler\n",
        "scaler = MinMaxScaler()\n",
        "\n",
        "# Fit and transform the data\n",
        "scaled_data = scaler.fit_transform(data)\n",
        "\n",
        "# Print the scaled array\n",
        "print(scaled_data)\n"
      ],
      "metadata": {
        "colab": {
          "base_uri": "https://localhost:8080/"
        },
        "id": "9aiHQ8ipk5ol",
        "outputId": "d269e5ca-2b93-4eca-a1d6-d27505fae59a"
      },
      "execution_count": null,
      "outputs": [
        {
          "output_type": "stream",
          "name": "stdout",
          "text": [
            "[[0.        ]\n",
            " [0.16666667]\n",
            " [0.44444444]\n",
            " [0.72222222]\n",
            " [1.        ]]\n"
          ]
        }
      ]
    }
  ]
}